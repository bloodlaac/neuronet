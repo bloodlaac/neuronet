{
 "cells": [
  {
   "cell_type": "code",
   "execution_count": 1,
   "id": "034d36b0-2b7b-494f-a5d6-9917ddc1b1d4",
   "metadata": {},
   "outputs": [],
   "source": [
    "import os\n",
    "import torch\n",
    "import torchvision.transforms as transforms\n",
    "import pandas as pd\n",
    "import numpy as np\n",
    "\n",
    "from torch.utils.data import Dataset, DataLoader\n",
    "from PIL import Image"
   ]
  },
  {
   "cell_type": "code",
   "execution_count": 2,
   "id": "00b307c8",
   "metadata": {},
   "outputs": [],
   "source": [
    "food_dir = './products_dataset'\n",
    "\n",
    "FOOD = [\n",
    "    'FreshApple', 'FreshBanana', 'FreshMango', 'FreshOrange', 'FreshStrawberry',\n",
    "    'RottenApple', 'RottenBanana', 'RottenMango', 'RottenOrange', 'RottenStrawberry',\n",
    "    'FreshBellpepper', 'FreshCarrot', 'FreshCucumber', 'FreshPotato', 'FreshTomato',\n",
    "    'RottenBellpepper', 'RottenCarrot', 'RottenCucumber', 'RottenPotato', 'RottenTomato'\n",
    "]"
   ]
  },
  {
   "cell_type": "code",
   "execution_count": 3,
   "id": "04f3a0d0",
   "metadata": {},
   "outputs": [],
   "source": [
    "class LabeledDataset():\n",
    "    def __init__(self, food_dir, food_classes, transform=None):\n",
    "        self.food_dir = food_dir\n",
    "        self.food_classes = food_classes\n",
    "        self.transform = transform\n",
    "        self.images_paths = []\n",
    "        self.labels = []\n",
    "\n",
    "        for cls_name in food_classes:\n",
    "            class_path = os.path.join(food_dir, cls_name)\n",
    "\n",
    "            for image_name in os.listdir(class_path):\n",
    "                image_path = os.path.join(class_path, image_name)\n",
    "                # img = Image.open(image_path).convert(\"RGB\")\n",
    "                self.images_paths.append(image_path)\n",
    "                self.labels.append(food_classes.index(cls_name))\n",
    "        \n",
    "    def __len__(self):\n",
    "        return len(self.images_paths)\n",
    "    \n",
    "    def __getitem__(self, index):\n",
    "        image = Image.open(self.images_paths[index]).convert(\"RGB\")\n",
    "        label = self.labels[index]\n",
    "\n",
    "        if self.transform:\n",
    "            image = self.transform(image)\n",
    "\n",
    "        return image, label"
   ]
  },
  {
   "cell_type": "code",
   "execution_count": 4,
   "id": "a5bf3477",
   "metadata": {},
   "outputs": [],
   "source": [
    "data_transforms = transforms.Compose([\n",
    "    transforms.Resize((224, 224)),\n",
    "    transforms.ToTensor(),\n",
    "])"
   ]
  },
  {
   "cell_type": "code",
   "execution_count": 5,
   "id": "f69cd2fe",
   "metadata": {},
   "outputs": [],
   "source": [
    "food_dataset = LabeledDataset(food_dir, FOOD, transform=data_transforms)"
   ]
  },
  {
   "cell_type": "code",
   "execution_count": 6,
   "id": "58dbc443",
   "metadata": {},
   "outputs": [],
   "source": [
    "trainset_len = int(0.8 * len(food_dataset))\n",
    "testset_len = len(food_dataset) - trainset_len"
   ]
  },
  {
   "cell_type": "code",
   "execution_count": 7,
   "id": "a32107ef",
   "metadata": {},
   "outputs": [],
   "source": [
    "train_dataset, test_dataset = torch.utils.data.random_split(food_dataset, [trainset_len, testset_len])"
   ]
  },
  {
   "cell_type": "code",
   "execution_count": 8,
   "id": "ddaa6b66",
   "metadata": {},
   "outputs": [],
   "source": [
    "train_dataloader = DataLoader(train_dataset, batch_size=32, shuffle=True)\n",
    "test_dataloader = DataLoader(test_dataset, batch_size=32, shuffle=True)"
   ]
  }
 ],
 "metadata": {
  "kernelspec": {
   "display_name": "venv",
   "language": "python",
   "name": "python3"
  },
  "language_info": {
   "codemirror_mode": {
    "name": "ipython",
    "version": 3
   },
   "file_extension": ".py",
   "mimetype": "text/x-python",
   "name": "python",
   "nbconvert_exporter": "python",
   "pygments_lexer": "ipython3",
   "version": "3.12.3"
  }
 },
 "nbformat": 4,
 "nbformat_minor": 5
}
